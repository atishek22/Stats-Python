{
 "cells": [
  {
   "cell_type": "code",
   "execution_count": 1,
   "metadata": {
    "collapsed": true
   },
   "outputs": [],
   "source": [
    "import pandas as pd\n",
    "import numpy as np\n",
    "import matplotlib.pyplot as plt\n",
    "import seaborn as sb"
   ]
  },
  {
   "cell_type": "code",
   "execution_count": 2,
   "outputs": [
    {
     "data": {
      "text/plain": "    age  sex   cp  trestbps   chol  fbs  restecg  thalach  exang  oldpeak  \\\n0  63.0  1.0  1.0     145.0  233.0  1.0      2.0    150.0    0.0      2.3   \n1  67.0  1.0  4.0     160.0  286.0  0.0      2.0    108.0    1.0      1.5   \n2  67.0  1.0  4.0     120.0  229.0  0.0      2.0    129.0    1.0      2.6   \n3  37.0  1.0  3.0     130.0  250.0  0.0      0.0    187.0    0.0      3.5   \n4  41.0  0.0  2.0     130.0  204.0  0.0      2.0    172.0    0.0      1.4   \n\n   slope   ca thal  heart_disease  \n0    3.0  0.0  6.0              0  \n1    2.0  3.0  3.0              2  \n2    2.0  2.0  7.0              1  \n3    3.0  0.0  3.0              0  \n4    1.0  0.0  3.0              0  ",
      "text/html": "<div>\n<style scoped>\n    .dataframe tbody tr th:only-of-type {\n        vertical-align: middle;\n    }\n\n    .dataframe tbody tr th {\n        vertical-align: top;\n    }\n\n    .dataframe thead th {\n        text-align: right;\n    }\n</style>\n<table border=\"1\" class=\"dataframe\">\n  <thead>\n    <tr style=\"text-align: right;\">\n      <th></th>\n      <th>age</th>\n      <th>sex</th>\n      <th>cp</th>\n      <th>trestbps</th>\n      <th>chol</th>\n      <th>fbs</th>\n      <th>restecg</th>\n      <th>thalach</th>\n      <th>exang</th>\n      <th>oldpeak</th>\n      <th>slope</th>\n      <th>ca</th>\n      <th>thal</th>\n      <th>heart_disease</th>\n    </tr>\n  </thead>\n  <tbody>\n    <tr>\n      <th>0</th>\n      <td>63.0</td>\n      <td>1.0</td>\n      <td>1.0</td>\n      <td>145.0</td>\n      <td>233.0</td>\n      <td>1.0</td>\n      <td>2.0</td>\n      <td>150.0</td>\n      <td>0.0</td>\n      <td>2.3</td>\n      <td>3.0</td>\n      <td>0.0</td>\n      <td>6.0</td>\n      <td>0</td>\n    </tr>\n    <tr>\n      <th>1</th>\n      <td>67.0</td>\n      <td>1.0</td>\n      <td>4.0</td>\n      <td>160.0</td>\n      <td>286.0</td>\n      <td>0.0</td>\n      <td>2.0</td>\n      <td>108.0</td>\n      <td>1.0</td>\n      <td>1.5</td>\n      <td>2.0</td>\n      <td>3.0</td>\n      <td>3.0</td>\n      <td>2</td>\n    </tr>\n    <tr>\n      <th>2</th>\n      <td>67.0</td>\n      <td>1.0</td>\n      <td>4.0</td>\n      <td>120.0</td>\n      <td>229.0</td>\n      <td>0.0</td>\n      <td>2.0</td>\n      <td>129.0</td>\n      <td>1.0</td>\n      <td>2.6</td>\n      <td>2.0</td>\n      <td>2.0</td>\n      <td>7.0</td>\n      <td>1</td>\n    </tr>\n    <tr>\n      <th>3</th>\n      <td>37.0</td>\n      <td>1.0</td>\n      <td>3.0</td>\n      <td>130.0</td>\n      <td>250.0</td>\n      <td>0.0</td>\n      <td>0.0</td>\n      <td>187.0</td>\n      <td>0.0</td>\n      <td>3.5</td>\n      <td>3.0</td>\n      <td>0.0</td>\n      <td>3.0</td>\n      <td>0</td>\n    </tr>\n    <tr>\n      <th>4</th>\n      <td>41.0</td>\n      <td>0.0</td>\n      <td>2.0</td>\n      <td>130.0</td>\n      <td>204.0</td>\n      <td>0.0</td>\n      <td>2.0</td>\n      <td>172.0</td>\n      <td>0.0</td>\n      <td>1.4</td>\n      <td>1.0</td>\n      <td>0.0</td>\n      <td>3.0</td>\n      <td>0</td>\n    </tr>\n  </tbody>\n</table>\n</div>"
     },
     "execution_count": 2,
     "metadata": {},
     "output_type": "execute_result"
    }
   ],
   "source": [
    "heart = pd.read_csv(\"./processed.cleveland.data.csv\")\n",
    "heart.head()"
   ],
   "metadata": {
    "collapsed": false,
    "pycharm": {
     "name": "#%%\n"
    }
   }
  },
  {
   "cell_type": "markdown",
   "source": [
    "\n",
    "#### Data description\n",
    "\n",
    "- age: age in years\n",
    "- sex: 1=male, 0=female\n",
    "- cp: chest pain type\n",
    " - Value 1: typical angina\n",
    " - Value 2: atypical angina\n",
    " - Value 3: non-anginal pain\n",
    " - Value 4: asymptomatic\n",
    "- trestbps: resting blood pressure (in mm Hg on admission to the hospital)\n",
    "- chol: serum cholestoral in mg/dl\n",
    "- fbs: (fasting blood sugar > 120 mg/dl) (1 = true; 0 = false)\n",
    "- restecg: resting electrocardiographic results\n",
    " - Value 0: normal\n",
    " - Value 1: having ST-T wave abnormality (T wave inversions and/or ST elevation or depression of > 0.05 mV)\n",
    " - Value 2: showing probable or definite left ventricular hypertrophy by Estes' criteria\n",
    "- thalach: maximum heart rate achieved in an exercise test\n",
    "- exang: exercise induced angina (1 = yes; 0 = no)\n",
    "- oldpeak: ST depression induced by exercise relative to rest\n",
    "- slope: the slope of the peak exercise ST segment\n",
    " - Value 1: upsloping\n",
    " - Value 2: flat\n",
    " - Value 3: downsloping\n",
    "- ca: number of major vessels (0-3) colored by flourosopy\n",
    "- thal:\n",
    " - Value 3: normal\n",
    " - Value 6: fixed defect\n",
    " - Value 7: reversable defect\n",
    "- heart_disease: diagnosis of heart disease (angiographic disease status)\n",
    " - Value 0: < 50% diameter narrowing\n",
    " - Value 1: > 50% diameter narrowing\n",
    "\n",
    "\"\\[This field\\] refers to the presence of heart disease in the patient. It is integer valued from 0 (no presence) to 4. Experiments with the Cleveland database have concentrated on simply attempting to distinguish presence (values 1,2,3,4) from absence (value 0).\""
   ],
   "metadata": {
    "collapsed": false
   }
  },
  {
   "cell_type": "code",
   "execution_count": 3,
   "outputs": [
    {
     "name": "stdout",
     "output_type": "stream",
     "text": [
      "<class 'pandas.core.frame.DataFrame'>\n",
      "RangeIndex: 303 entries, 0 to 302\n",
      "Data columns (total 14 columns):\n",
      " #   Column         Non-Null Count  Dtype  \n",
      "---  ------         --------------  -----  \n",
      " 0   age            303 non-null    float64\n",
      " 1   sex            303 non-null    float64\n",
      " 2   cp             303 non-null    float64\n",
      " 3   trestbps       303 non-null    float64\n",
      " 4   chol           303 non-null    float64\n",
      " 5   fbs            303 non-null    float64\n",
      " 6   restecg        303 non-null    float64\n",
      " 7   thalach        303 non-null    float64\n",
      " 8   exang          303 non-null    float64\n",
      " 9   oldpeak        303 non-null    float64\n",
      " 10  slope          303 non-null    float64\n",
      " 11  ca             303 non-null    object \n",
      " 12  thal           303 non-null    object \n",
      " 13  heart_disease  303 non-null    int64  \n",
      "dtypes: float64(11), int64(1), object(2)\n",
      "memory usage: 33.3+ KB\n"
     ]
    }
   ],
   "source": [
    "heart.info()"
   ],
   "metadata": {
    "collapsed": false,
    "pycharm": {
     "name": "#%%\n"
    }
   }
  },
  {
   "cell_type": "code",
   "execution_count": 4,
   "outputs": [
    {
     "data": {
      "text/plain": "               age         sex          cp    trestbps        chol  \\\ncount   303.000000  303.000000  303.000000  303.000000  303.000000   \nunique         NaN         NaN         NaN         NaN         NaN   \ntop            NaN         NaN         NaN         NaN         NaN   \nfreq           NaN         NaN         NaN         NaN         NaN   \nmean     54.438944    0.679868    3.158416  131.689769  246.693069   \nstd       9.038662    0.467299    0.960126   17.599748   51.776918   \nmin      29.000000    0.000000    1.000000   94.000000  126.000000   \n25%      48.000000    0.000000    3.000000  120.000000  211.000000   \n50%      56.000000    1.000000    3.000000  130.000000  241.000000   \n75%      61.000000    1.000000    4.000000  140.000000  275.000000   \nmax      77.000000    1.000000    4.000000  200.000000  564.000000   \n\n               fbs     restecg     thalach       exang     oldpeak  \\\ncount   303.000000  303.000000  303.000000  303.000000  303.000000   \nunique         NaN         NaN         NaN         NaN         NaN   \ntop            NaN         NaN         NaN         NaN         NaN   \nfreq           NaN         NaN         NaN         NaN         NaN   \nmean      0.148515    0.990099  149.607261    0.326733    1.039604   \nstd       0.356198    0.994971   22.875003    0.469794    1.161075   \nmin       0.000000    0.000000   71.000000    0.000000    0.000000   \n25%       0.000000    0.000000  133.500000    0.000000    0.000000   \n50%       0.000000    1.000000  153.000000    0.000000    0.800000   \n75%       0.000000    2.000000  166.000000    1.000000    1.600000   \nmax       1.000000    2.000000  202.000000    1.000000    6.200000   \n\n             slope   ca thal  heart_disease  \ncount   303.000000  303  303     303.000000  \nunique         NaN    5    4            NaN  \ntop            NaN  0.0  3.0            NaN  \nfreq           NaN  176  166            NaN  \nmean      1.600660  NaN  NaN       0.937294  \nstd       0.616226  NaN  NaN       1.228536  \nmin       1.000000  NaN  NaN       0.000000  \n25%       1.000000  NaN  NaN       0.000000  \n50%       2.000000  NaN  NaN       0.000000  \n75%       2.000000  NaN  NaN       2.000000  \nmax       3.000000  NaN  NaN       4.000000  ",
      "text/html": "<div>\n<style scoped>\n    .dataframe tbody tr th:only-of-type {\n        vertical-align: middle;\n    }\n\n    .dataframe tbody tr th {\n        vertical-align: top;\n    }\n\n    .dataframe thead th {\n        text-align: right;\n    }\n</style>\n<table border=\"1\" class=\"dataframe\">\n  <thead>\n    <tr style=\"text-align: right;\">\n      <th></th>\n      <th>age</th>\n      <th>sex</th>\n      <th>cp</th>\n      <th>trestbps</th>\n      <th>chol</th>\n      <th>fbs</th>\n      <th>restecg</th>\n      <th>thalach</th>\n      <th>exang</th>\n      <th>oldpeak</th>\n      <th>slope</th>\n      <th>ca</th>\n      <th>thal</th>\n      <th>heart_disease</th>\n    </tr>\n  </thead>\n  <tbody>\n    <tr>\n      <th>count</th>\n      <td>303.000000</td>\n      <td>303.000000</td>\n      <td>303.000000</td>\n      <td>303.000000</td>\n      <td>303.000000</td>\n      <td>303.000000</td>\n      <td>303.000000</td>\n      <td>303.000000</td>\n      <td>303.000000</td>\n      <td>303.000000</td>\n      <td>303.000000</td>\n      <td>303</td>\n      <td>303</td>\n      <td>303.000000</td>\n    </tr>\n    <tr>\n      <th>unique</th>\n      <td>NaN</td>\n      <td>NaN</td>\n      <td>NaN</td>\n      <td>NaN</td>\n      <td>NaN</td>\n      <td>NaN</td>\n      <td>NaN</td>\n      <td>NaN</td>\n      <td>NaN</td>\n      <td>NaN</td>\n      <td>NaN</td>\n      <td>5</td>\n      <td>4</td>\n      <td>NaN</td>\n    </tr>\n    <tr>\n      <th>top</th>\n      <td>NaN</td>\n      <td>NaN</td>\n      <td>NaN</td>\n      <td>NaN</td>\n      <td>NaN</td>\n      <td>NaN</td>\n      <td>NaN</td>\n      <td>NaN</td>\n      <td>NaN</td>\n      <td>NaN</td>\n      <td>NaN</td>\n      <td>0.0</td>\n      <td>3.0</td>\n      <td>NaN</td>\n    </tr>\n    <tr>\n      <th>freq</th>\n      <td>NaN</td>\n      <td>NaN</td>\n      <td>NaN</td>\n      <td>NaN</td>\n      <td>NaN</td>\n      <td>NaN</td>\n      <td>NaN</td>\n      <td>NaN</td>\n      <td>NaN</td>\n      <td>NaN</td>\n      <td>NaN</td>\n      <td>176</td>\n      <td>166</td>\n      <td>NaN</td>\n    </tr>\n    <tr>\n      <th>mean</th>\n      <td>54.438944</td>\n      <td>0.679868</td>\n      <td>3.158416</td>\n      <td>131.689769</td>\n      <td>246.693069</td>\n      <td>0.148515</td>\n      <td>0.990099</td>\n      <td>149.607261</td>\n      <td>0.326733</td>\n      <td>1.039604</td>\n      <td>1.600660</td>\n      <td>NaN</td>\n      <td>NaN</td>\n      <td>0.937294</td>\n    </tr>\n    <tr>\n      <th>std</th>\n      <td>9.038662</td>\n      <td>0.467299</td>\n      <td>0.960126</td>\n      <td>17.599748</td>\n      <td>51.776918</td>\n      <td>0.356198</td>\n      <td>0.994971</td>\n      <td>22.875003</td>\n      <td>0.469794</td>\n      <td>1.161075</td>\n      <td>0.616226</td>\n      <td>NaN</td>\n      <td>NaN</td>\n      <td>1.228536</td>\n    </tr>\n    <tr>\n      <th>min</th>\n      <td>29.000000</td>\n      <td>0.000000</td>\n      <td>1.000000</td>\n      <td>94.000000</td>\n      <td>126.000000</td>\n      <td>0.000000</td>\n      <td>0.000000</td>\n      <td>71.000000</td>\n      <td>0.000000</td>\n      <td>0.000000</td>\n      <td>1.000000</td>\n      <td>NaN</td>\n      <td>NaN</td>\n      <td>0.000000</td>\n    </tr>\n    <tr>\n      <th>25%</th>\n      <td>48.000000</td>\n      <td>0.000000</td>\n      <td>3.000000</td>\n      <td>120.000000</td>\n      <td>211.000000</td>\n      <td>0.000000</td>\n      <td>0.000000</td>\n      <td>133.500000</td>\n      <td>0.000000</td>\n      <td>0.000000</td>\n      <td>1.000000</td>\n      <td>NaN</td>\n      <td>NaN</td>\n      <td>0.000000</td>\n    </tr>\n    <tr>\n      <th>50%</th>\n      <td>56.000000</td>\n      <td>1.000000</td>\n      <td>3.000000</td>\n      <td>130.000000</td>\n      <td>241.000000</td>\n      <td>0.000000</td>\n      <td>1.000000</td>\n      <td>153.000000</td>\n      <td>0.000000</td>\n      <td>0.800000</td>\n      <td>2.000000</td>\n      <td>NaN</td>\n      <td>NaN</td>\n      <td>0.000000</td>\n    </tr>\n    <tr>\n      <th>75%</th>\n      <td>61.000000</td>\n      <td>1.000000</td>\n      <td>4.000000</td>\n      <td>140.000000</td>\n      <td>275.000000</td>\n      <td>0.000000</td>\n      <td>2.000000</td>\n      <td>166.000000</td>\n      <td>1.000000</td>\n      <td>1.600000</td>\n      <td>2.000000</td>\n      <td>NaN</td>\n      <td>NaN</td>\n      <td>2.000000</td>\n    </tr>\n    <tr>\n      <th>max</th>\n      <td>77.000000</td>\n      <td>1.000000</td>\n      <td>4.000000</td>\n      <td>200.000000</td>\n      <td>564.000000</td>\n      <td>1.000000</td>\n      <td>2.000000</td>\n      <td>202.000000</td>\n      <td>1.000000</td>\n      <td>6.200000</td>\n      <td>3.000000</td>\n      <td>NaN</td>\n      <td>NaN</td>\n      <td>4.000000</td>\n    </tr>\n  </tbody>\n</table>\n</div>"
     },
     "execution_count": 4,
     "metadata": {},
     "output_type": "execute_result"
    }
   ],
   "source": [
    "heart.describe(include='all')"
   ],
   "metadata": {
    "collapsed": false,
    "pycharm": {
     "name": "#%%\n"
    }
   }
  },
  {
   "cell_type": "code",
   "execution_count": 5,
   "outputs": [
    {
     "data": {
      "text/plain": "array(['0.0', '3.0', '2.0', '1.0', '?'], dtype=object)"
     },
     "execution_count": 5,
     "metadata": {},
     "output_type": "execute_result"
    }
   ],
   "source": [
    "# fixing the weirdness with the ca and thal columns being interpreted as\n",
    "# objects(strings) instead of numbers\n",
    "heart.ca.unique()"
   ],
   "metadata": {
    "collapsed": false,
    "pycharm": {
     "name": "#%%\n"
    }
   }
  },
  {
   "cell_type": "code",
   "execution_count": 6,
   "outputs": [
    {
     "data": {
      "text/plain": "      age  sex   cp  trestbps   chol  fbs  restecg  thalach  exang  oldpeak  \\\n166  52.0  1.0  3.0     138.0  223.0  0.0      0.0    169.0    0.0      0.0   \n192  43.0  1.0  4.0     132.0  247.0  1.0      2.0    143.0    1.0      0.1   \n287  58.0  1.0  2.0     125.0  220.0  0.0      0.0    144.0    0.0      0.4   \n302  38.0  1.0  3.0     138.0  175.0  0.0      0.0    173.0    0.0      0.0   \n\n     slope ca thal  heart_disease  \n166    1.0  ?  3.0              0  \n192    2.0  ?  7.0              1  \n287    2.0  ?  7.0              0  \n302    1.0  ?  3.0              0  ",
      "text/html": "<div>\n<style scoped>\n    .dataframe tbody tr th:only-of-type {\n        vertical-align: middle;\n    }\n\n    .dataframe tbody tr th {\n        vertical-align: top;\n    }\n\n    .dataframe thead th {\n        text-align: right;\n    }\n</style>\n<table border=\"1\" class=\"dataframe\">\n  <thead>\n    <tr style=\"text-align: right;\">\n      <th></th>\n      <th>age</th>\n      <th>sex</th>\n      <th>cp</th>\n      <th>trestbps</th>\n      <th>chol</th>\n      <th>fbs</th>\n      <th>restecg</th>\n      <th>thalach</th>\n      <th>exang</th>\n      <th>oldpeak</th>\n      <th>slope</th>\n      <th>ca</th>\n      <th>thal</th>\n      <th>heart_disease</th>\n    </tr>\n  </thead>\n  <tbody>\n    <tr>\n      <th>166</th>\n      <td>52.0</td>\n      <td>1.0</td>\n      <td>3.0</td>\n      <td>138.0</td>\n      <td>223.0</td>\n      <td>0.0</td>\n      <td>0.0</td>\n      <td>169.0</td>\n      <td>0.0</td>\n      <td>0.0</td>\n      <td>1.0</td>\n      <td>?</td>\n      <td>3.0</td>\n      <td>0</td>\n    </tr>\n    <tr>\n      <th>192</th>\n      <td>43.0</td>\n      <td>1.0</td>\n      <td>4.0</td>\n      <td>132.0</td>\n      <td>247.0</td>\n      <td>1.0</td>\n      <td>2.0</td>\n      <td>143.0</td>\n      <td>1.0</td>\n      <td>0.1</td>\n      <td>2.0</td>\n      <td>?</td>\n      <td>7.0</td>\n      <td>1</td>\n    </tr>\n    <tr>\n      <th>287</th>\n      <td>58.0</td>\n      <td>1.0</td>\n      <td>2.0</td>\n      <td>125.0</td>\n      <td>220.0</td>\n      <td>0.0</td>\n      <td>0.0</td>\n      <td>144.0</td>\n      <td>0.0</td>\n      <td>0.4</td>\n      <td>2.0</td>\n      <td>?</td>\n      <td>7.0</td>\n      <td>0</td>\n    </tr>\n    <tr>\n      <th>302</th>\n      <td>38.0</td>\n      <td>1.0</td>\n      <td>3.0</td>\n      <td>138.0</td>\n      <td>175.0</td>\n      <td>0.0</td>\n      <td>0.0</td>\n      <td>173.0</td>\n      <td>0.0</td>\n      <td>0.0</td>\n      <td>1.0</td>\n      <td>?</td>\n      <td>3.0</td>\n      <td>0</td>\n    </tr>\n  </tbody>\n</table>\n</div>"
     },
     "execution_count": 6,
     "metadata": {},
     "output_type": "execute_result"
    }
   ],
   "source": [
    "heart[heart.ca == '?']"
   ],
   "metadata": {
    "collapsed": false,
    "pycharm": {
     "name": "#%%\n"
    }
   }
  },
  {
   "cell_type": "code",
   "execution_count": 7,
   "outputs": [
    {
     "data": {
      "text/plain": "      age  sex   cp  trestbps   chol  fbs  restecg  thalach  exang  oldpeak  \\\n87   53.0  0.0  3.0     128.0  216.0  0.0      2.0    115.0    0.0      0.0   \n266  52.0  1.0  4.0     128.0  204.0  1.0      0.0    156.0    1.0      1.0   \n\n     slope   ca thal  heart_disease  \n87     1.0  0.0    ?              0  \n266    2.0  0.0    ?              2  ",
      "text/html": "<div>\n<style scoped>\n    .dataframe tbody tr th:only-of-type {\n        vertical-align: middle;\n    }\n\n    .dataframe tbody tr th {\n        vertical-align: top;\n    }\n\n    .dataframe thead th {\n        text-align: right;\n    }\n</style>\n<table border=\"1\" class=\"dataframe\">\n  <thead>\n    <tr style=\"text-align: right;\">\n      <th></th>\n      <th>age</th>\n      <th>sex</th>\n      <th>cp</th>\n      <th>trestbps</th>\n      <th>chol</th>\n      <th>fbs</th>\n      <th>restecg</th>\n      <th>thalach</th>\n      <th>exang</th>\n      <th>oldpeak</th>\n      <th>slope</th>\n      <th>ca</th>\n      <th>thal</th>\n      <th>heart_disease</th>\n    </tr>\n  </thead>\n  <tbody>\n    <tr>\n      <th>87</th>\n      <td>53.0</td>\n      <td>0.0</td>\n      <td>3.0</td>\n      <td>128.0</td>\n      <td>216.0</td>\n      <td>0.0</td>\n      <td>2.0</td>\n      <td>115.0</td>\n      <td>0.0</td>\n      <td>0.0</td>\n      <td>1.0</td>\n      <td>0.0</td>\n      <td>?</td>\n      <td>0</td>\n    </tr>\n    <tr>\n      <th>266</th>\n      <td>52.0</td>\n      <td>1.0</td>\n      <td>4.0</td>\n      <td>128.0</td>\n      <td>204.0</td>\n      <td>1.0</td>\n      <td>0.0</td>\n      <td>156.0</td>\n      <td>1.0</td>\n      <td>1.0</td>\n      <td>2.0</td>\n      <td>0.0</td>\n      <td>?</td>\n      <td>2</td>\n    </tr>\n  </tbody>\n</table>\n</div>"
     },
     "execution_count": 7,
     "metadata": {},
     "output_type": "execute_result"
    }
   ],
   "source": [
    "heart[heart.thal == '?']"
   ],
   "metadata": {
    "collapsed": false,
    "pycharm": {
     "name": "#%%\n"
    }
   }
  },
  {
   "cell_type": "code",
   "execution_count": 8,
   "outputs": [
    {
     "name": "stdout",
     "output_type": "stream",
     "text": [
      "Empty DataFrame\n",
      "Columns: [age, sex, cp, trestbps, chol, fbs, restecg, thalach, exang, oldpeak, slope, ca, thal, heart_disease]\n",
      "Index: []\n",
      "Empty DataFrame\n",
      "Columns: [age, sex, cp, trestbps, chol, fbs, restecg, thalach, exang, oldpeak, slope, ca, thal, heart_disease]\n",
      "Index: []\n"
     ]
    }
   ],
   "source": [
    "heart = heart.replace('?', np.nan)\n",
    "print(heart[heart.thal == '?'])\n",
    "print(heart[heart.ca == '?'])"
   ],
   "metadata": {
    "collapsed": false,
    "pycharm": {
     "name": "#%%\n"
    }
   }
  },
  {
   "cell_type": "code",
   "execution_count": 9,
   "outputs": [
    {
     "name": "stdout",
     "output_type": "stream",
     "text": [
      "<class 'pandas.core.frame.DataFrame'>\n",
      "RangeIndex: 303 entries, 0 to 302\n",
      "Data columns (total 14 columns):\n",
      " #   Column         Non-Null Count  Dtype  \n",
      "---  ------         --------------  -----  \n",
      " 0   age            303 non-null    float64\n",
      " 1   sex            303 non-null    float64\n",
      " 2   cp             303 non-null    float64\n",
      " 3   trestbps       303 non-null    float64\n",
      " 4   chol           303 non-null    float64\n",
      " 5   fbs            303 non-null    float64\n",
      " 6   restecg        303 non-null    float64\n",
      " 7   thalach        303 non-null    float64\n",
      " 8   exang          303 non-null    float64\n",
      " 9   oldpeak        303 non-null    float64\n",
      " 10  slope          303 non-null    float64\n",
      " 11  ca             299 non-null    float64\n",
      " 12  thal           301 non-null    object \n",
      " 13  heart_disease  303 non-null    int64  \n",
      "dtypes: float64(12), int64(1), object(1)\n",
      "memory usage: 33.3+ KB\n"
     ]
    }
   ],
   "source": [
    "heart.ca = heart.ca.astype('float')\n",
    "heart.info()"
   ],
   "metadata": {
    "collapsed": false,
    "pycharm": {
     "name": "#%%\n"
    }
   }
  },
  {
   "cell_type": "code",
   "execution_count": 10,
   "outputs": [
    {
     "name": "stdout",
     "output_type": "stream",
     "text": [
      "<class 'pandas.core.frame.DataFrame'>\n",
      "RangeIndex: 303 entries, 0 to 302\n",
      "Data columns (total 14 columns):\n",
      " #   Column         Non-Null Count  Dtype  \n",
      "---  ------         --------------  -----  \n",
      " 0   age            303 non-null    float64\n",
      " 1   sex            303 non-null    float64\n",
      " 2   cp             303 non-null    float64\n",
      " 3   trestbps       303 non-null    float64\n",
      " 4   chol           303 non-null    float64\n",
      " 5   fbs            303 non-null    float64\n",
      " 6   restecg        303 non-null    float64\n",
      " 7   thalach        303 non-null    float64\n",
      " 8   exang          303 non-null    float64\n",
      " 9   oldpeak        303 non-null    float64\n",
      " 10  slope          303 non-null    float64\n",
      " 11  ca             299 non-null    float64\n",
      " 12  thal           301 non-null    object \n",
      " 13  heart_disease  303 non-null    int64  \n",
      "dtypes: float64(12), int64(1), object(1)\n",
      "memory usage: 33.3+ KB\n"
     ]
    }
   ],
   "source": [
    "heart.info()"
   ],
   "metadata": {
    "collapsed": false,
    "pycharm": {
     "name": "#%%\n"
    }
   }
  },
  {
   "cell_type": "code",
   "execution_count": 11,
   "outputs": [
    {
     "data": {
      "text/plain": "age              float64\nsex               object\ncp               float64\ntrestbps         float64\nchol             float64\nfbs              float64\nrestecg          float64\nthalach          float64\nexang            float64\noldpeak          float64\nslope            float64\nca               float64\nthal              object\nheart_disease      int64\ndtype: object"
     },
     "execution_count": 11,
     "metadata": {},
     "output_type": "execute_result"
    }
   ],
   "source": [
    "# sex: 1=male, 0=female\n",
    "heart.sex.replace({0.0: 'female', 1.0: 'male'}, inplace=True)\n",
    "heart.dtypes"
   ],
   "metadata": {
    "collapsed": false,
    "pycharm": {
     "name": "#%%\n"
    }
   }
  },
  {
   "cell_type": "code",
   "execution_count": 12,
   "outputs": [
    {
     "name": "stdout",
     "output_type": "stream",
     "text": [
      "age              float64\n",
      "sex               object\n",
      "cp                object\n",
      "trestbps         float64\n",
      "chol             float64\n",
      "fbs              float64\n",
      "restecg          float64\n",
      "thalach          float64\n",
      "exang            float64\n",
      "oldpeak          float64\n",
      "slope            float64\n",
      "ca               float64\n",
      "thal              object\n",
      "heart_disease      int64\n",
      "dtype: object\n"
     ]
    },
    {
     "data": {
      "text/plain": "    age     sex                cp  trestbps   chol  fbs  restecg  thalach  \\\n0  63.0    male    typical angina     145.0  233.0  1.0      2.0    150.0   \n1  67.0    male      asymptomatic     160.0  286.0  0.0      2.0    108.0   \n2  67.0    male      asymptomatic     120.0  229.0  0.0      2.0    129.0   \n3  37.0    male  non-anginal pain     130.0  250.0  0.0      0.0    187.0   \n4  41.0  female   atypical angina     130.0  204.0  0.0      2.0    172.0   \n\n   exang  oldpeak  slope   ca thal  heart_disease  \n0    0.0      2.3    3.0  0.0  6.0              0  \n1    1.0      1.5    2.0  3.0  3.0              2  \n2    1.0      2.6    2.0  2.0  7.0              1  \n3    0.0      3.5    3.0  0.0  3.0              0  \n4    0.0      1.4    1.0  0.0  3.0              0  ",
      "text/html": "<div>\n<style scoped>\n    .dataframe tbody tr th:only-of-type {\n        vertical-align: middle;\n    }\n\n    .dataframe tbody tr th {\n        vertical-align: top;\n    }\n\n    .dataframe thead th {\n        text-align: right;\n    }\n</style>\n<table border=\"1\" class=\"dataframe\">\n  <thead>\n    <tr style=\"text-align: right;\">\n      <th></th>\n      <th>age</th>\n      <th>sex</th>\n      <th>cp</th>\n      <th>trestbps</th>\n      <th>chol</th>\n      <th>fbs</th>\n      <th>restecg</th>\n      <th>thalach</th>\n      <th>exang</th>\n      <th>oldpeak</th>\n      <th>slope</th>\n      <th>ca</th>\n      <th>thal</th>\n      <th>heart_disease</th>\n    </tr>\n  </thead>\n  <tbody>\n    <tr>\n      <th>0</th>\n      <td>63.0</td>\n      <td>male</td>\n      <td>typical angina</td>\n      <td>145.0</td>\n      <td>233.0</td>\n      <td>1.0</td>\n      <td>2.0</td>\n      <td>150.0</td>\n      <td>0.0</td>\n      <td>2.3</td>\n      <td>3.0</td>\n      <td>0.0</td>\n      <td>6.0</td>\n      <td>0</td>\n    </tr>\n    <tr>\n      <th>1</th>\n      <td>67.0</td>\n      <td>male</td>\n      <td>asymptomatic</td>\n      <td>160.0</td>\n      <td>286.0</td>\n      <td>0.0</td>\n      <td>2.0</td>\n      <td>108.0</td>\n      <td>1.0</td>\n      <td>1.5</td>\n      <td>2.0</td>\n      <td>3.0</td>\n      <td>3.0</td>\n      <td>2</td>\n    </tr>\n    <tr>\n      <th>2</th>\n      <td>67.0</td>\n      <td>male</td>\n      <td>asymptomatic</td>\n      <td>120.0</td>\n      <td>229.0</td>\n      <td>0.0</td>\n      <td>2.0</td>\n      <td>129.0</td>\n      <td>1.0</td>\n      <td>2.6</td>\n      <td>2.0</td>\n      <td>2.0</td>\n      <td>7.0</td>\n      <td>1</td>\n    </tr>\n    <tr>\n      <th>3</th>\n      <td>37.0</td>\n      <td>male</td>\n      <td>non-anginal pain</td>\n      <td>130.0</td>\n      <td>250.0</td>\n      <td>0.0</td>\n      <td>0.0</td>\n      <td>187.0</td>\n      <td>0.0</td>\n      <td>3.5</td>\n      <td>3.0</td>\n      <td>0.0</td>\n      <td>3.0</td>\n      <td>0</td>\n    </tr>\n    <tr>\n      <th>4</th>\n      <td>41.0</td>\n      <td>female</td>\n      <td>atypical angina</td>\n      <td>130.0</td>\n      <td>204.0</td>\n      <td>0.0</td>\n      <td>2.0</td>\n      <td>172.0</td>\n      <td>0.0</td>\n      <td>1.4</td>\n      <td>1.0</td>\n      <td>0.0</td>\n      <td>3.0</td>\n      <td>0</td>\n    </tr>\n  </tbody>\n</table>\n</div>"
     },
     "execution_count": 12,
     "metadata": {},
     "output_type": "execute_result"
    }
   ],
   "source": [
    "#cp: chest pain type\n",
    "# - Value 1: typical angina\n",
    "# - Value 2: atypical angina\n",
    "# - Value 3: non-anginal pain\n",
    "# - Value 4: asymptomatic\n",
    "\n",
    "heart.cp.replace({1.0: 'typical angina', 2.0: 'atypical angina',\n",
    "                  3.0: 'non-anginal pain', 4.0: 'asymptomatic'}, inplace=True)\n",
    "print(heart.dtypes)\n",
    "heart.head()"
   ],
   "metadata": {
    "collapsed": false,
    "pycharm": {
     "name": "#%%\n"
    }
   }
  },
  {
   "cell_type": "code",
   "execution_count": 13,
   "outputs": [
    {
     "name": "stdout",
     "output_type": "stream",
     "text": [
      "age              float64\n",
      "sex               object\n",
      "cp                object\n",
      "trestbps         float64\n",
      "chol             float64\n",
      "fbs              float64\n",
      "restecg           object\n",
      "thalach          float64\n",
      "exang            float64\n",
      "oldpeak          float64\n",
      "slope            float64\n",
      "ca               float64\n",
      "thal              object\n",
      "heart_disease      int64\n",
      "dtype: object\n"
     ]
    },
    {
     "data": {
      "text/plain": "    age     sex                cp  trestbps   chol  fbs  \\\n0  63.0    male    typical angina     145.0  233.0  1.0   \n1  67.0    male      asymptomatic     160.0  286.0  0.0   \n2  67.0    male      asymptomatic     120.0  229.0  0.0   \n3  37.0    male  non-anginal pain     130.0  250.0  0.0   \n4  41.0  female   atypical angina     130.0  204.0  0.0   \n\n                        restecg  thalach  exang  oldpeak  slope   ca thal  \\\n0  left ventricular hypertrophy    150.0    0.0      2.3    3.0  0.0  6.0   \n1  left ventricular hypertrophy    108.0    1.0      1.5    2.0  3.0  3.0   \n2  left ventricular hypertrophy    129.0    1.0      2.6    2.0  2.0  7.0   \n3                        normal    187.0    0.0      3.5    3.0  0.0  3.0   \n4  left ventricular hypertrophy    172.0    0.0      1.4    1.0  0.0  3.0   \n\n   heart_disease  \n0              0  \n1              2  \n2              1  \n3              0  \n4              0  ",
      "text/html": "<div>\n<style scoped>\n    .dataframe tbody tr th:only-of-type {\n        vertical-align: middle;\n    }\n\n    .dataframe tbody tr th {\n        vertical-align: top;\n    }\n\n    .dataframe thead th {\n        text-align: right;\n    }\n</style>\n<table border=\"1\" class=\"dataframe\">\n  <thead>\n    <tr style=\"text-align: right;\">\n      <th></th>\n      <th>age</th>\n      <th>sex</th>\n      <th>cp</th>\n      <th>trestbps</th>\n      <th>chol</th>\n      <th>fbs</th>\n      <th>restecg</th>\n      <th>thalach</th>\n      <th>exang</th>\n      <th>oldpeak</th>\n      <th>slope</th>\n      <th>ca</th>\n      <th>thal</th>\n      <th>heart_disease</th>\n    </tr>\n  </thead>\n  <tbody>\n    <tr>\n      <th>0</th>\n      <td>63.0</td>\n      <td>male</td>\n      <td>typical angina</td>\n      <td>145.0</td>\n      <td>233.0</td>\n      <td>1.0</td>\n      <td>left ventricular hypertrophy</td>\n      <td>150.0</td>\n      <td>0.0</td>\n      <td>2.3</td>\n      <td>3.0</td>\n      <td>0.0</td>\n      <td>6.0</td>\n      <td>0</td>\n    </tr>\n    <tr>\n      <th>1</th>\n      <td>67.0</td>\n      <td>male</td>\n      <td>asymptomatic</td>\n      <td>160.0</td>\n      <td>286.0</td>\n      <td>0.0</td>\n      <td>left ventricular hypertrophy</td>\n      <td>108.0</td>\n      <td>1.0</td>\n      <td>1.5</td>\n      <td>2.0</td>\n      <td>3.0</td>\n      <td>3.0</td>\n      <td>2</td>\n    </tr>\n    <tr>\n      <th>2</th>\n      <td>67.0</td>\n      <td>male</td>\n      <td>asymptomatic</td>\n      <td>120.0</td>\n      <td>229.0</td>\n      <td>0.0</td>\n      <td>left ventricular hypertrophy</td>\n      <td>129.0</td>\n      <td>1.0</td>\n      <td>2.6</td>\n      <td>2.0</td>\n      <td>2.0</td>\n      <td>7.0</td>\n      <td>1</td>\n    </tr>\n    <tr>\n      <th>3</th>\n      <td>37.0</td>\n      <td>male</td>\n      <td>non-anginal pain</td>\n      <td>130.0</td>\n      <td>250.0</td>\n      <td>0.0</td>\n      <td>normal</td>\n      <td>187.0</td>\n      <td>0.0</td>\n      <td>3.5</td>\n      <td>3.0</td>\n      <td>0.0</td>\n      <td>3.0</td>\n      <td>0</td>\n    </tr>\n    <tr>\n      <th>4</th>\n      <td>41.0</td>\n      <td>female</td>\n      <td>atypical angina</td>\n      <td>130.0</td>\n      <td>204.0</td>\n      <td>0.0</td>\n      <td>left ventricular hypertrophy</td>\n      <td>172.0</td>\n      <td>0.0</td>\n      <td>1.4</td>\n      <td>1.0</td>\n      <td>0.0</td>\n      <td>3.0</td>\n      <td>0</td>\n    </tr>\n  </tbody>\n</table>\n</div>"
     },
     "execution_count": 13,
     "metadata": {},
     "output_type": "execute_result"
    }
   ],
   "source": [
    "# restecg: resting electrocardiographic results\n",
    "# - Value 0: normal\n",
    "# - Value 1: having ST-T wave abnormality (T wave inversions and/or ST elevation or depression of > 0.05 mV)\n",
    "# - Value 2: showing probable or definite left ventricular hypertrophy by Estes' criteria\n",
    "\n",
    "heart.restecg.replace({0.0: 'normal', 1.0: 'ST-T wave abnormality',\n",
    "                       2.0: 'left ventricular hypertrophy'}, inplace=True)\n",
    "print(heart.dtypes)\n",
    "heart.head()"
   ],
   "metadata": {
    "collapsed": false,
    "pycharm": {
     "name": "#%%\n"
    }
   }
  },
  {
   "cell_type": "code",
   "execution_count": 14,
   "outputs": [
    {
     "data": {
      "text/plain": "    age     sex                cp  trestbps   chol  fbs  thalach  exang  \\\n0  63.0    male    typical angina     145.0  233.0  1.0    150.0    0.0   \n1  67.0    male      asymptomatic     160.0  286.0  0.0    108.0    1.0   \n2  67.0    male      asymptomatic     120.0  229.0  0.0    129.0    1.0   \n3  37.0    male  non-anginal pain     130.0  250.0  0.0    187.0    0.0   \n4  41.0  female   atypical angina     130.0  204.0  0.0    172.0    0.0   \n\n   oldpeak  slope   ca thal  heart_disease  restecg_ST-T wave abnormality  \\\n0      2.3    3.0  0.0  6.0              0                              0   \n1      1.5    2.0  3.0  3.0              2                              0   \n2      2.6    2.0  2.0  7.0              1                              0   \n3      3.5    3.0  0.0  3.0              0                              0   \n4      1.4    1.0  0.0  3.0              0                              0   \n\n   restecg_left ventricular hypertrophy  restecg_normal  \n0                                     1               0  \n1                                     1               0  \n2                                     1               0  \n3                                     0               1  \n4                                     1               0  ",
      "text/html": "<div>\n<style scoped>\n    .dataframe tbody tr th:only-of-type {\n        vertical-align: middle;\n    }\n\n    .dataframe tbody tr th {\n        vertical-align: top;\n    }\n\n    .dataframe thead th {\n        text-align: right;\n    }\n</style>\n<table border=\"1\" class=\"dataframe\">\n  <thead>\n    <tr style=\"text-align: right;\">\n      <th></th>\n      <th>age</th>\n      <th>sex</th>\n      <th>cp</th>\n      <th>trestbps</th>\n      <th>chol</th>\n      <th>fbs</th>\n      <th>thalach</th>\n      <th>exang</th>\n      <th>oldpeak</th>\n      <th>slope</th>\n      <th>ca</th>\n      <th>thal</th>\n      <th>heart_disease</th>\n      <th>restecg_ST-T wave abnormality</th>\n      <th>restecg_left ventricular hypertrophy</th>\n      <th>restecg_normal</th>\n    </tr>\n  </thead>\n  <tbody>\n    <tr>\n      <th>0</th>\n      <td>63.0</td>\n      <td>male</td>\n      <td>typical angina</td>\n      <td>145.0</td>\n      <td>233.0</td>\n      <td>1.0</td>\n      <td>150.0</td>\n      <td>0.0</td>\n      <td>2.3</td>\n      <td>3.0</td>\n      <td>0.0</td>\n      <td>6.0</td>\n      <td>0</td>\n      <td>0</td>\n      <td>1</td>\n      <td>0</td>\n    </tr>\n    <tr>\n      <th>1</th>\n      <td>67.0</td>\n      <td>male</td>\n      <td>asymptomatic</td>\n      <td>160.0</td>\n      <td>286.0</td>\n      <td>0.0</td>\n      <td>108.0</td>\n      <td>1.0</td>\n      <td>1.5</td>\n      <td>2.0</td>\n      <td>3.0</td>\n      <td>3.0</td>\n      <td>2</td>\n      <td>0</td>\n      <td>1</td>\n      <td>0</td>\n    </tr>\n    <tr>\n      <th>2</th>\n      <td>67.0</td>\n      <td>male</td>\n      <td>asymptomatic</td>\n      <td>120.0</td>\n      <td>229.0</td>\n      <td>0.0</td>\n      <td>129.0</td>\n      <td>1.0</td>\n      <td>2.6</td>\n      <td>2.0</td>\n      <td>2.0</td>\n      <td>7.0</td>\n      <td>1</td>\n      <td>0</td>\n      <td>1</td>\n      <td>0</td>\n    </tr>\n    <tr>\n      <th>3</th>\n      <td>37.0</td>\n      <td>male</td>\n      <td>non-anginal pain</td>\n      <td>130.0</td>\n      <td>250.0</td>\n      <td>0.0</td>\n      <td>187.0</td>\n      <td>0.0</td>\n      <td>3.5</td>\n      <td>3.0</td>\n      <td>0.0</td>\n      <td>3.0</td>\n      <td>0</td>\n      <td>0</td>\n      <td>0</td>\n      <td>1</td>\n    </tr>\n    <tr>\n      <th>4</th>\n      <td>41.0</td>\n      <td>female</td>\n      <td>atypical angina</td>\n      <td>130.0</td>\n      <td>204.0</td>\n      <td>0.0</td>\n      <td>172.0</td>\n      <td>0.0</td>\n      <td>1.4</td>\n      <td>1.0</td>\n      <td>0.0</td>\n      <td>3.0</td>\n      <td>0</td>\n      <td>0</td>\n      <td>1</td>\n      <td>0</td>\n    </tr>\n  </tbody>\n</table>\n</div>"
     },
     "execution_count": 14,
     "metadata": {},
     "output_type": "execute_result"
    }
   ],
   "source": [
    "# get_dummies converts the categorical variables into indicator variable(0/1)\n",
    "\n",
    "heart = pd.get_dummies(data=heart, columns=['restecg'])\n",
    "heart.head()"
   ],
   "metadata": {
    "collapsed": false,
    "pycharm": {
     "name": "#%%\n"
    }
   }
  },
  {
   "cell_type": "code",
   "execution_count": 15,
   "outputs": [
    {
     "data": {
      "text/plain": "    age     sex                cp  trestbps   chol  fbs  thalach  exang  \\\n0  63.0    male    typical angina     145.0  233.0  1.0    150.0    0.0   \n1  67.0    male      asymptomatic     160.0  286.0  0.0    108.0    1.0   \n2  67.0    male      asymptomatic     120.0  229.0  0.0    129.0    1.0   \n3  37.0    male  non-anginal pain     130.0  250.0  0.0    187.0    0.0   \n4  41.0  female   atypical angina     130.0  204.0  0.0    172.0    0.0   \n\n   oldpeak  slope   ca thal  heart_disease  restecg_normal  \n0      2.3    3.0  0.0  6.0              0               0  \n1      1.5    2.0  3.0  3.0              2               0  \n2      2.6    2.0  2.0  7.0              1               0  \n3      3.5    3.0  0.0  3.0              0               1  \n4      1.4    1.0  0.0  3.0              0               0  ",
      "text/html": "<div>\n<style scoped>\n    .dataframe tbody tr th:only-of-type {\n        vertical-align: middle;\n    }\n\n    .dataframe tbody tr th {\n        vertical-align: top;\n    }\n\n    .dataframe thead th {\n        text-align: right;\n    }\n</style>\n<table border=\"1\" class=\"dataframe\">\n  <thead>\n    <tr style=\"text-align: right;\">\n      <th></th>\n      <th>age</th>\n      <th>sex</th>\n      <th>cp</th>\n      <th>trestbps</th>\n      <th>chol</th>\n      <th>fbs</th>\n      <th>thalach</th>\n      <th>exang</th>\n      <th>oldpeak</th>\n      <th>slope</th>\n      <th>ca</th>\n      <th>thal</th>\n      <th>heart_disease</th>\n      <th>restecg_normal</th>\n    </tr>\n  </thead>\n  <tbody>\n    <tr>\n      <th>0</th>\n      <td>63.0</td>\n      <td>male</td>\n      <td>typical angina</td>\n      <td>145.0</td>\n      <td>233.0</td>\n      <td>1.0</td>\n      <td>150.0</td>\n      <td>0.0</td>\n      <td>2.3</td>\n      <td>3.0</td>\n      <td>0.0</td>\n      <td>6.0</td>\n      <td>0</td>\n      <td>0</td>\n    </tr>\n    <tr>\n      <th>1</th>\n      <td>67.0</td>\n      <td>male</td>\n      <td>asymptomatic</td>\n      <td>160.0</td>\n      <td>286.0</td>\n      <td>0.0</td>\n      <td>108.0</td>\n      <td>1.0</td>\n      <td>1.5</td>\n      <td>2.0</td>\n      <td>3.0</td>\n      <td>3.0</td>\n      <td>2</td>\n      <td>0</td>\n    </tr>\n    <tr>\n      <th>2</th>\n      <td>67.0</td>\n      <td>male</td>\n      <td>asymptomatic</td>\n      <td>120.0</td>\n      <td>229.0</td>\n      <td>0.0</td>\n      <td>129.0</td>\n      <td>1.0</td>\n      <td>2.6</td>\n      <td>2.0</td>\n      <td>2.0</td>\n      <td>7.0</td>\n      <td>1</td>\n      <td>0</td>\n    </tr>\n    <tr>\n      <th>3</th>\n      <td>37.0</td>\n      <td>male</td>\n      <td>non-anginal pain</td>\n      <td>130.0</td>\n      <td>250.0</td>\n      <td>0.0</td>\n      <td>187.0</td>\n      <td>0.0</td>\n      <td>3.5</td>\n      <td>3.0</td>\n      <td>0.0</td>\n      <td>3.0</td>\n      <td>0</td>\n      <td>1</td>\n    </tr>\n    <tr>\n      <th>4</th>\n      <td>41.0</td>\n      <td>female</td>\n      <td>atypical angina</td>\n      <td>130.0</td>\n      <td>204.0</td>\n      <td>0.0</td>\n      <td>172.0</td>\n      <td>0.0</td>\n      <td>1.4</td>\n      <td>1.0</td>\n      <td>0.0</td>\n      <td>3.0</td>\n      <td>0</td>\n      <td>0</td>\n    </tr>\n  </tbody>\n</table>\n</div>"
     },
     "execution_count": 15,
     "metadata": {},
     "output_type": "execute_result"
    }
   ],
   "source": [
    "# dropping columns in the dataframe\n",
    "\n",
    "heart.drop(['restecg_ST-T wave abnormality', 'restecg_left ventricular hypertrophy'], axis=1, inplace= True)\n",
    "heart.head()"
   ],
   "metadata": {
    "collapsed": false,
    "pycharm": {
     "name": "#%%\n"
    }
   }
  },
  {
   "cell_type": "code",
   "execution_count": 16,
   "outputs": [
    {
     "name": "stdout",
     "output_type": "stream",
     "text": [
      "age               float64\n",
      "sex                object\n",
      "cp                 object\n",
      "trestbps          float64\n",
      "chol              float64\n",
      "fbs               float64\n",
      "thalach           float64\n",
      "exang             float64\n",
      "oldpeak           float64\n",
      "slope              object\n",
      "ca                float64\n",
      "thal               object\n",
      "heart_disease       int64\n",
      "restecg_normal      uint8\n",
      "dtype: object\n"
     ]
    },
    {
     "data": {
      "text/plain": "    age     sex                cp  trestbps   chol  fbs  thalach  exang  \\\n0  63.0    male    typical angina     145.0  233.0  1.0    150.0    0.0   \n1  67.0    male      asymptomatic     160.0  286.0  0.0    108.0    1.0   \n2  67.0    male      asymptomatic     120.0  229.0  0.0    129.0    1.0   \n3  37.0    male  non-anginal pain     130.0  250.0  0.0    187.0    0.0   \n4  41.0  female   atypical angina     130.0  204.0  0.0    172.0    0.0   \n\n   oldpeak        slope   ca thal  heart_disease  restecg_normal  \n0      2.3  downsloping  0.0  6.0              0               0  \n1      1.5         flat  3.0  3.0              2               0  \n2      2.6         flat  2.0  7.0              1               0  \n3      3.5  downsloping  0.0  3.0              0               1  \n4      1.4    upsloping  0.0  3.0              0               0  ",
      "text/html": "<div>\n<style scoped>\n    .dataframe tbody tr th:only-of-type {\n        vertical-align: middle;\n    }\n\n    .dataframe tbody tr th {\n        vertical-align: top;\n    }\n\n    .dataframe thead th {\n        text-align: right;\n    }\n</style>\n<table border=\"1\" class=\"dataframe\">\n  <thead>\n    <tr style=\"text-align: right;\">\n      <th></th>\n      <th>age</th>\n      <th>sex</th>\n      <th>cp</th>\n      <th>trestbps</th>\n      <th>chol</th>\n      <th>fbs</th>\n      <th>thalach</th>\n      <th>exang</th>\n      <th>oldpeak</th>\n      <th>slope</th>\n      <th>ca</th>\n      <th>thal</th>\n      <th>heart_disease</th>\n      <th>restecg_normal</th>\n    </tr>\n  </thead>\n  <tbody>\n    <tr>\n      <th>0</th>\n      <td>63.0</td>\n      <td>male</td>\n      <td>typical angina</td>\n      <td>145.0</td>\n      <td>233.0</td>\n      <td>1.0</td>\n      <td>150.0</td>\n      <td>0.0</td>\n      <td>2.3</td>\n      <td>downsloping</td>\n      <td>0.0</td>\n      <td>6.0</td>\n      <td>0</td>\n      <td>0</td>\n    </tr>\n    <tr>\n      <th>1</th>\n      <td>67.0</td>\n      <td>male</td>\n      <td>asymptomatic</td>\n      <td>160.0</td>\n      <td>286.0</td>\n      <td>0.0</td>\n      <td>108.0</td>\n      <td>1.0</td>\n      <td>1.5</td>\n      <td>flat</td>\n      <td>3.0</td>\n      <td>3.0</td>\n      <td>2</td>\n      <td>0</td>\n    </tr>\n    <tr>\n      <th>2</th>\n      <td>67.0</td>\n      <td>male</td>\n      <td>asymptomatic</td>\n      <td>120.0</td>\n      <td>229.0</td>\n      <td>0.0</td>\n      <td>129.0</td>\n      <td>1.0</td>\n      <td>2.6</td>\n      <td>flat</td>\n      <td>2.0</td>\n      <td>7.0</td>\n      <td>1</td>\n      <td>0</td>\n    </tr>\n    <tr>\n      <th>3</th>\n      <td>37.0</td>\n      <td>male</td>\n      <td>non-anginal pain</td>\n      <td>130.0</td>\n      <td>250.0</td>\n      <td>0.0</td>\n      <td>187.0</td>\n      <td>0.0</td>\n      <td>3.5</td>\n      <td>downsloping</td>\n      <td>0.0</td>\n      <td>3.0</td>\n      <td>0</td>\n      <td>1</td>\n    </tr>\n    <tr>\n      <th>4</th>\n      <td>41.0</td>\n      <td>female</td>\n      <td>atypical angina</td>\n      <td>130.0</td>\n      <td>204.0</td>\n      <td>0.0</td>\n      <td>172.0</td>\n      <td>0.0</td>\n      <td>1.4</td>\n      <td>upsloping</td>\n      <td>0.0</td>\n      <td>3.0</td>\n      <td>0</td>\n      <td>0</td>\n    </tr>\n  </tbody>\n</table>\n</div>"
     },
     "execution_count": 16,
     "metadata": {},
     "output_type": "execute_result"
    }
   ],
   "source": [
    "# slope: the slope of the peak exercise ST segment\n",
    "# - Value 1: upsloping\n",
    "# - Value 2: flat\n",
    "# - Value 3: downsloping\n",
    "heart.slope.replace({1.0: 'upsloping', 2.0: 'flat', 3.0: 'downsloping'},\n",
    "                    inplace=True)\n",
    "print(heart.dtypes)\n",
    "heart.head()"
   ],
   "metadata": {
    "collapsed": false,
    "pycharm": {
     "name": "#%%\n"
    }
   }
  },
  {
   "cell_type": "code",
   "execution_count": 17,
   "outputs": [
    {
     "data": {
      "text/plain": "0      2\n1      1\n2      1\n3      2\n4      0\n      ..\n298    1\n299    1\n300    1\n301    1\n302    0\nLength: 303, dtype: int8"
     },
     "execution_count": 17,
     "metadata": {},
     "output_type": "execute_result"
    }
   ],
   "source": [
    "heart.slope = pd.Categorical(heart.slope, ['upsloping', 'flat', 'downsloping'],\n",
    "                             ordered=True)\n",
    "heart.slope.cat.codes"
   ],
   "metadata": {
    "collapsed": false,
    "pycharm": {
     "name": "#%%\n"
    }
   }
  },
  {
   "cell_type": "code",
   "execution_count": 18,
   "outputs": [
    {
     "data": {
      "text/plain": "1.0"
     },
     "execution_count": 18,
     "metadata": {},
     "output_type": "execute_result"
    }
   ],
   "source": [
    "heart.slope.cat.codes.median()"
   ],
   "metadata": {
    "collapsed": false,
    "pycharm": {
     "name": "#%%\n"
    }
   }
  },
  {
   "cell_type": "code",
   "execution_count": 19,
   "outputs": [
    {
     "data": {
      "text/plain": "    age     sex                cp  trestbps   chol  fbs  thalach  exang  \\\n0  63.0    male    typical angina     145.0  233.0  1.0    150.0    0.0   \n1  67.0    male      asymptomatic     160.0  286.0  0.0    108.0    1.0   \n2  67.0    male      asymptomatic     120.0  229.0  0.0    129.0    1.0   \n3  37.0    male  non-anginal pain     130.0  250.0  0.0    187.0    0.0   \n4  41.0  female   atypical angina     130.0  204.0  0.0    172.0    0.0   \n\n   oldpeak        slope   ca             thal  heart_disease  restecg_normal  \n0      2.3  downsloping  0.0     fixed defect              0               0  \n1      1.5         flat  3.0           normal              2               0  \n2      2.6         flat  2.0  reversal defect              1               0  \n3      3.5  downsloping  0.0           normal              0               1  \n4      1.4    upsloping  0.0           normal              0               0  ",
      "text/html": "<div>\n<style scoped>\n    .dataframe tbody tr th:only-of-type {\n        vertical-align: middle;\n    }\n\n    .dataframe tbody tr th {\n        vertical-align: top;\n    }\n\n    .dataframe thead th {\n        text-align: right;\n    }\n</style>\n<table border=\"1\" class=\"dataframe\">\n  <thead>\n    <tr style=\"text-align: right;\">\n      <th></th>\n      <th>age</th>\n      <th>sex</th>\n      <th>cp</th>\n      <th>trestbps</th>\n      <th>chol</th>\n      <th>fbs</th>\n      <th>thalach</th>\n      <th>exang</th>\n      <th>oldpeak</th>\n      <th>slope</th>\n      <th>ca</th>\n      <th>thal</th>\n      <th>heart_disease</th>\n      <th>restecg_normal</th>\n    </tr>\n  </thead>\n  <tbody>\n    <tr>\n      <th>0</th>\n      <td>63.0</td>\n      <td>male</td>\n      <td>typical angina</td>\n      <td>145.0</td>\n      <td>233.0</td>\n      <td>1.0</td>\n      <td>150.0</td>\n      <td>0.0</td>\n      <td>2.3</td>\n      <td>downsloping</td>\n      <td>0.0</td>\n      <td>fixed defect</td>\n      <td>0</td>\n      <td>0</td>\n    </tr>\n    <tr>\n      <th>1</th>\n      <td>67.0</td>\n      <td>male</td>\n      <td>asymptomatic</td>\n      <td>160.0</td>\n      <td>286.0</td>\n      <td>0.0</td>\n      <td>108.0</td>\n      <td>1.0</td>\n      <td>1.5</td>\n      <td>flat</td>\n      <td>3.0</td>\n      <td>normal</td>\n      <td>2</td>\n      <td>0</td>\n    </tr>\n    <tr>\n      <th>2</th>\n      <td>67.0</td>\n      <td>male</td>\n      <td>asymptomatic</td>\n      <td>120.0</td>\n      <td>229.0</td>\n      <td>0.0</td>\n      <td>129.0</td>\n      <td>1.0</td>\n      <td>2.6</td>\n      <td>flat</td>\n      <td>2.0</td>\n      <td>reversal defect</td>\n      <td>1</td>\n      <td>0</td>\n    </tr>\n    <tr>\n      <th>3</th>\n      <td>37.0</td>\n      <td>male</td>\n      <td>non-anginal pain</td>\n      <td>130.0</td>\n      <td>250.0</td>\n      <td>0.0</td>\n      <td>187.0</td>\n      <td>0.0</td>\n      <td>3.5</td>\n      <td>downsloping</td>\n      <td>0.0</td>\n      <td>normal</td>\n      <td>0</td>\n      <td>1</td>\n    </tr>\n    <tr>\n      <th>4</th>\n      <td>41.0</td>\n      <td>female</td>\n      <td>atypical angina</td>\n      <td>130.0</td>\n      <td>204.0</td>\n      <td>0.0</td>\n      <td>172.0</td>\n      <td>0.0</td>\n      <td>1.4</td>\n      <td>upsloping</td>\n      <td>0.0</td>\n      <td>normal</td>\n      <td>0</td>\n      <td>0</td>\n    </tr>\n  </tbody>\n</table>\n</div>"
     },
     "execution_count": 19,
     "metadata": {},
     "output_type": "execute_result"
    }
   ],
   "source": [
    "# thal: 3 = normal; 6 = fixed defect; 7 = reversable defect\n",
    "heart.thal.replace({'3.0': 'normal', '6.0': 'fixed defect', '7.0': 'reversal defect'},\n",
    "                   inplace=True )\n",
    "heart.head()"
   ],
   "metadata": {
    "collapsed": false,
    "pycharm": {
     "name": "#%%\n"
    }
   }
  },
  {
   "cell_type": "markdown",
   "source": [
    "- heart_disease: diagnosis of heart disease (angiographic disease status)\n",
    " - Value 0: < 50% diameter narrowing\n",
    " - Value 1: > 50% diameter narrowing\n",
    "\n",
    "\"\\[This field\\] refers to the presence of heart disease in the patient. It is integer valued from 0 (no presence) to 4. Experiments with the Cleveland database have concentrated on simply attempting to distinguish presence (values 1,2,3,4) from absence (value 0).\""
   ],
   "metadata": {
    "collapsed": false,
    "pycharm": {
     "name": "#%% md\n"
    }
   }
  },
  {
   "cell_type": "code",
   "execution_count": 20,
   "outputs": [
    {
     "data": {
      "text/plain": "array(['presence', 'presence', 'absence', 'absence', 'absence',\n       'presence', 'absence', 'presence', 'presence'], dtype='<U8')"
     },
     "execution_count": 20,
     "metadata": {},
     "output_type": "execute_result"
    }
   ],
   "source": [
    "np.where(heart.heart_disease == 0, 'absence', 'presence')[1:10]"
   ],
   "metadata": {
    "collapsed": false,
    "pycharm": {
     "name": "#%%\n"
    }
   }
  },
  {
   "cell_type": "code",
   "execution_count": 21,
   "outputs": [
    {
     "data": {
      "text/plain": "1    2\n2    1\n3    0\n4    0\n5    0\n6    3\n7    0\n8    2\n9    1\nName: heart_disease, dtype: int64"
     },
     "execution_count": 21,
     "metadata": {},
     "output_type": "execute_result"
    }
   ],
   "source": [
    "heart.heart_disease[1:10]"
   ],
   "metadata": {
    "collapsed": false,
    "pycharm": {
     "name": "#%%\n"
    }
   }
  },
  {
   "cell_type": "code",
   "execution_count": 22,
   "outputs": [
    {
     "data": {
      "text/plain": "    age     sex                cp  trestbps   chol  fbs  thalach  exang  \\\n0  63.0    male    typical angina     145.0  233.0  1.0    150.0    0.0   \n1  67.0    male      asymptomatic     160.0  286.0  0.0    108.0    1.0   \n2  67.0    male      asymptomatic     120.0  229.0  0.0    129.0    1.0   \n3  37.0    male  non-anginal pain     130.0  250.0  0.0    187.0    0.0   \n4  41.0  female   atypical angina     130.0  204.0  0.0    172.0    0.0   \n\n   oldpeak        slope   ca             thal heart_disease  restecg_normal  \n0      2.3  downsloping  0.0     fixed defect       absence               0  \n1      1.5         flat  3.0           normal      presence               0  \n2      2.6         flat  2.0  reversal defect      presence               0  \n3      3.5  downsloping  0.0           normal       absence               1  \n4      1.4    upsloping  0.0           normal       absence               0  ",
      "text/html": "<div>\n<style scoped>\n    .dataframe tbody tr th:only-of-type {\n        vertical-align: middle;\n    }\n\n    .dataframe tbody tr th {\n        vertical-align: top;\n    }\n\n    .dataframe thead th {\n        text-align: right;\n    }\n</style>\n<table border=\"1\" class=\"dataframe\">\n  <thead>\n    <tr style=\"text-align: right;\">\n      <th></th>\n      <th>age</th>\n      <th>sex</th>\n      <th>cp</th>\n      <th>trestbps</th>\n      <th>chol</th>\n      <th>fbs</th>\n      <th>thalach</th>\n      <th>exang</th>\n      <th>oldpeak</th>\n      <th>slope</th>\n      <th>ca</th>\n      <th>thal</th>\n      <th>heart_disease</th>\n      <th>restecg_normal</th>\n    </tr>\n  </thead>\n  <tbody>\n    <tr>\n      <th>0</th>\n      <td>63.0</td>\n      <td>male</td>\n      <td>typical angina</td>\n      <td>145.0</td>\n      <td>233.0</td>\n      <td>1.0</td>\n      <td>150.0</td>\n      <td>0.0</td>\n      <td>2.3</td>\n      <td>downsloping</td>\n      <td>0.0</td>\n      <td>fixed defect</td>\n      <td>absence</td>\n      <td>0</td>\n    </tr>\n    <tr>\n      <th>1</th>\n      <td>67.0</td>\n      <td>male</td>\n      <td>asymptomatic</td>\n      <td>160.0</td>\n      <td>286.0</td>\n      <td>0.0</td>\n      <td>108.0</td>\n      <td>1.0</td>\n      <td>1.5</td>\n      <td>flat</td>\n      <td>3.0</td>\n      <td>normal</td>\n      <td>presence</td>\n      <td>0</td>\n    </tr>\n    <tr>\n      <th>2</th>\n      <td>67.0</td>\n      <td>male</td>\n      <td>asymptomatic</td>\n      <td>120.0</td>\n      <td>229.0</td>\n      <td>0.0</td>\n      <td>129.0</td>\n      <td>1.0</td>\n      <td>2.6</td>\n      <td>flat</td>\n      <td>2.0</td>\n      <td>reversal defect</td>\n      <td>presence</td>\n      <td>0</td>\n    </tr>\n    <tr>\n      <th>3</th>\n      <td>37.0</td>\n      <td>male</td>\n      <td>non-anginal pain</td>\n      <td>130.0</td>\n      <td>250.0</td>\n      <td>0.0</td>\n      <td>187.0</td>\n      <td>0.0</td>\n      <td>3.5</td>\n      <td>downsloping</td>\n      <td>0.0</td>\n      <td>normal</td>\n      <td>absence</td>\n      <td>1</td>\n    </tr>\n    <tr>\n      <th>4</th>\n      <td>41.0</td>\n      <td>female</td>\n      <td>atypical angina</td>\n      <td>130.0</td>\n      <td>204.0</td>\n      <td>0.0</td>\n      <td>172.0</td>\n      <td>0.0</td>\n      <td>1.4</td>\n      <td>upsloping</td>\n      <td>0.0</td>\n      <td>normal</td>\n      <td>absence</td>\n      <td>0</td>\n    </tr>\n  </tbody>\n</table>\n</div>"
     },
     "execution_count": 22,
     "metadata": {},
     "output_type": "execute_result"
    }
   ],
   "source": [
    "heart.heart_disease = np.where(heart.heart_disease == 0, 'absence', 'presence')\n",
    "heart.head()"
   ],
   "metadata": {
    "collapsed": false,
    "pycharm": {
     "name": "#%%\n"
    }
   }
  },
  {
   "cell_type": "code",
   "execution_count": 23,
   "outputs": [
    {
     "data": {
      "text/plain": "               age   sex            cp    trestbps        chol         fbs  \\\ncount   303.000000   303           303  303.000000  303.000000  303.000000   \nunique         NaN     2             4         NaN         NaN         NaN   \ntop            NaN  male  asymptomatic         NaN         NaN         NaN   \nfreq           NaN   206           144         NaN         NaN         NaN   \nmean     54.438944   NaN           NaN  131.689769  246.693069    0.148515   \nstd       9.038662   NaN           NaN   17.599748   51.776918    0.356198   \nmin      29.000000   NaN           NaN   94.000000  126.000000    0.000000   \n25%      48.000000   NaN           NaN  120.000000  211.000000    0.000000   \n50%      56.000000   NaN           NaN  130.000000  241.000000    0.000000   \n75%      61.000000   NaN           NaN  140.000000  275.000000    0.000000   \nmax      77.000000   NaN           NaN  200.000000  564.000000    1.000000   \n\n           thalach       exang     oldpeak      slope          ca    thal  \\\ncount   303.000000  303.000000  303.000000        303  299.000000     301   \nunique         NaN         NaN         NaN          3         NaN       3   \ntop            NaN         NaN         NaN  upsloping         NaN  normal   \nfreq           NaN         NaN         NaN        142         NaN     166   \nmean    149.607261    0.326733    1.039604        NaN    0.672241     NaN   \nstd      22.875003    0.469794    1.161075        NaN    0.937438     NaN   \nmin      71.000000    0.000000    0.000000        NaN    0.000000     NaN   \n25%     133.500000    0.000000    0.000000        NaN    0.000000     NaN   \n50%     153.000000    0.000000    0.800000        NaN    0.000000     NaN   \n75%     166.000000    1.000000    1.600000        NaN    1.000000     NaN   \nmax     202.000000    1.000000    6.200000        NaN    3.000000     NaN   \n\n       heart_disease  restecg_normal  \ncount            303      303.000000  \nunique             2             NaN  \ntop          absence             NaN  \nfreq             164             NaN  \nmean             NaN        0.498350  \nstd              NaN        0.500824  \nmin              NaN        0.000000  \n25%              NaN        0.000000  \n50%              NaN        0.000000  \n75%              NaN        1.000000  \nmax              NaN        1.000000  ",
      "text/html": "<div>\n<style scoped>\n    .dataframe tbody tr th:only-of-type {\n        vertical-align: middle;\n    }\n\n    .dataframe tbody tr th {\n        vertical-align: top;\n    }\n\n    .dataframe thead th {\n        text-align: right;\n    }\n</style>\n<table border=\"1\" class=\"dataframe\">\n  <thead>\n    <tr style=\"text-align: right;\">\n      <th></th>\n      <th>age</th>\n      <th>sex</th>\n      <th>cp</th>\n      <th>trestbps</th>\n      <th>chol</th>\n      <th>fbs</th>\n      <th>thalach</th>\n      <th>exang</th>\n      <th>oldpeak</th>\n      <th>slope</th>\n      <th>ca</th>\n      <th>thal</th>\n      <th>heart_disease</th>\n      <th>restecg_normal</th>\n    </tr>\n  </thead>\n  <tbody>\n    <tr>\n      <th>count</th>\n      <td>303.000000</td>\n      <td>303</td>\n      <td>303</td>\n      <td>303.000000</td>\n      <td>303.000000</td>\n      <td>303.000000</td>\n      <td>303.000000</td>\n      <td>303.000000</td>\n      <td>303.000000</td>\n      <td>303</td>\n      <td>299.000000</td>\n      <td>301</td>\n      <td>303</td>\n      <td>303.000000</td>\n    </tr>\n    <tr>\n      <th>unique</th>\n      <td>NaN</td>\n      <td>2</td>\n      <td>4</td>\n      <td>NaN</td>\n      <td>NaN</td>\n      <td>NaN</td>\n      <td>NaN</td>\n      <td>NaN</td>\n      <td>NaN</td>\n      <td>3</td>\n      <td>NaN</td>\n      <td>3</td>\n      <td>2</td>\n      <td>NaN</td>\n    </tr>\n    <tr>\n      <th>top</th>\n      <td>NaN</td>\n      <td>male</td>\n      <td>asymptomatic</td>\n      <td>NaN</td>\n      <td>NaN</td>\n      <td>NaN</td>\n      <td>NaN</td>\n      <td>NaN</td>\n      <td>NaN</td>\n      <td>upsloping</td>\n      <td>NaN</td>\n      <td>normal</td>\n      <td>absence</td>\n      <td>NaN</td>\n    </tr>\n    <tr>\n      <th>freq</th>\n      <td>NaN</td>\n      <td>206</td>\n      <td>144</td>\n      <td>NaN</td>\n      <td>NaN</td>\n      <td>NaN</td>\n      <td>NaN</td>\n      <td>NaN</td>\n      <td>NaN</td>\n      <td>142</td>\n      <td>NaN</td>\n      <td>166</td>\n      <td>164</td>\n      <td>NaN</td>\n    </tr>\n    <tr>\n      <th>mean</th>\n      <td>54.438944</td>\n      <td>NaN</td>\n      <td>NaN</td>\n      <td>131.689769</td>\n      <td>246.693069</td>\n      <td>0.148515</td>\n      <td>149.607261</td>\n      <td>0.326733</td>\n      <td>1.039604</td>\n      <td>NaN</td>\n      <td>0.672241</td>\n      <td>NaN</td>\n      <td>NaN</td>\n      <td>0.498350</td>\n    </tr>\n    <tr>\n      <th>std</th>\n      <td>9.038662</td>\n      <td>NaN</td>\n      <td>NaN</td>\n      <td>17.599748</td>\n      <td>51.776918</td>\n      <td>0.356198</td>\n      <td>22.875003</td>\n      <td>0.469794</td>\n      <td>1.161075</td>\n      <td>NaN</td>\n      <td>0.937438</td>\n      <td>NaN</td>\n      <td>NaN</td>\n      <td>0.500824</td>\n    </tr>\n    <tr>\n      <th>min</th>\n      <td>29.000000</td>\n      <td>NaN</td>\n      <td>NaN</td>\n      <td>94.000000</td>\n      <td>126.000000</td>\n      <td>0.000000</td>\n      <td>71.000000</td>\n      <td>0.000000</td>\n      <td>0.000000</td>\n      <td>NaN</td>\n      <td>0.000000</td>\n      <td>NaN</td>\n      <td>NaN</td>\n      <td>0.000000</td>\n    </tr>\n    <tr>\n      <th>25%</th>\n      <td>48.000000</td>\n      <td>NaN</td>\n      <td>NaN</td>\n      <td>120.000000</td>\n      <td>211.000000</td>\n      <td>0.000000</td>\n      <td>133.500000</td>\n      <td>0.000000</td>\n      <td>0.000000</td>\n      <td>NaN</td>\n      <td>0.000000</td>\n      <td>NaN</td>\n      <td>NaN</td>\n      <td>0.000000</td>\n    </tr>\n    <tr>\n      <th>50%</th>\n      <td>56.000000</td>\n      <td>NaN</td>\n      <td>NaN</td>\n      <td>130.000000</td>\n      <td>241.000000</td>\n      <td>0.000000</td>\n      <td>153.000000</td>\n      <td>0.000000</td>\n      <td>0.800000</td>\n      <td>NaN</td>\n      <td>0.000000</td>\n      <td>NaN</td>\n      <td>NaN</td>\n      <td>0.000000</td>\n    </tr>\n    <tr>\n      <th>75%</th>\n      <td>61.000000</td>\n      <td>NaN</td>\n      <td>NaN</td>\n      <td>140.000000</td>\n      <td>275.000000</td>\n      <td>0.000000</td>\n      <td>166.000000</td>\n      <td>1.000000</td>\n      <td>1.600000</td>\n      <td>NaN</td>\n      <td>1.000000</td>\n      <td>NaN</td>\n      <td>NaN</td>\n      <td>1.000000</td>\n    </tr>\n    <tr>\n      <th>max</th>\n      <td>77.000000</td>\n      <td>NaN</td>\n      <td>NaN</td>\n      <td>200.000000</td>\n      <td>564.000000</td>\n      <td>1.000000</td>\n      <td>202.000000</td>\n      <td>1.000000</td>\n      <td>6.200000</td>\n      <td>NaN</td>\n      <td>3.000000</td>\n      <td>NaN</td>\n      <td>NaN</td>\n      <td>1.000000</td>\n    </tr>\n  </tbody>\n</table>\n</div>"
     },
     "execution_count": 23,
     "metadata": {},
     "output_type": "execute_result"
    }
   ],
   "source": [
    "heart.describe(include='all')\n"
   ],
   "metadata": {
    "collapsed": false,
    "pycharm": {
     "name": "#%%\n"
    }
   }
  }
 ],
 "metadata": {
  "kernelspec": {
   "display_name": "Python 3",
   "language": "python",
   "name": "python3"
  },
  "language_info": {
   "codemirror_mode": {
    "name": "ipython",
    "version": 2
   },
   "file_extension": ".py",
   "mimetype": "text/x-python",
   "name": "python",
   "nbconvert_exporter": "python",
   "pygments_lexer": "ipython2",
   "version": "2.7.6"
  }
 },
 "nbformat": 4,
 "nbformat_minor": 0
}